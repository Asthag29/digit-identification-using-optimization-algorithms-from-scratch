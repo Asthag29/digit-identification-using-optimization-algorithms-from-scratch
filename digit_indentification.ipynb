{
 "cells": [
  {
   "cell_type": "code",
   "execution_count": null,
   "metadata": {},
   "outputs": [],
   "source": [
    "import numpy as np\n",
    "import pandas as pd\n",
    "from matplotlib import pyplot as plt\n",
    "\n",
    "train_data= pd.read_csv('/Users/asthagupta/Desktop/faltoo folder/mnist_train.csv')\n",
    "len(train_data)"
   ]
  },
  {
   "cell_type": "code",
   "execution_count": null,
   "metadata": {},
   "outputs": [],
   "source": [
    "def batch_generator(data, batch_size, num_epochs):\n",
    "    current_epoch = 0\n",
    "    \n",
    "    while current_epoch < num_epochs:\n",
    "        # Shuffle at the start of each epoch\n",
    "        shuffled_data = data.sample(frac=1).reset_index(drop=True)\n",
    "        num_samples = len(shuffled_data)\n",
    "        no_of_batches = num_samples // batch_size\n",
    "        # Generate batches for current epoch\n",
    "        for start_idx in range(1, no_of_batches + 1):\n",
    "            end_idx = min(start_idx + batch_size, num_samples)\n",
    "            batch = shuffled_data.iloc[start_idx:end_idx]\n",
    "            \n",
    "            # Prepare features and labels\n",
    "            X_train = batch.drop(columns=['label']).values.T  # Transpose features\n",
    "            y_train = batch['label'].values\n",
    "            \n",
    "            yield X_train, y_train, current_epoch\n",
    "            \n",
    "        current_epoch += 1\n",
    "\n",
    "\n",
    "\n",
    "\n",
    "generator = batch_generator(train_data,10000,2)\n",
    "for X_train, y_train, current_epoch in generator:\n",
    "    print(f\"Epoch: {current_epoch}, Batch shape: {X_train},{y_train}\")\n",
    "    # Use X_batch and y_batch in your training loop"
   ]
  },
  {
   "cell_type": "markdown",
   "metadata": {},
   "source": [
    "X~ 784 * m\n",
    "w1 ~ 16*784\n",
    "b1 ~ 16*1\n",
    "w2 ~ 10*16\n",
    "b2 ~ 10*1"
   ]
  },
  {
   "cell_type": "code",
   "execution_count": null,
   "metadata": {},
   "outputs": [],
   "source": [
    "# initial parameters\n",
    "def parameter_initialization():\n",
    "    \n",
    "    W1 = np.random.randn(16,784)-0.5\n",
    "    W2 = np.random.randn(10, 16)-0.5\n",
    "    b1 = np.random.randn(16,1)-0.5\n",
    "    b2 = np.random.randn(10,1)-0.5\n",
    "    return W1, W2, b1, b2"
   ]
  },
  {
   "cell_type": "code",
   "execution_count": null,
   "metadata": {},
   "outputs": [],
   "source": [
    "# relu function\n",
    "def relu(x):\n",
    "    return np.maximum(0, x)\n",
    "# derivative of relu\n",
    "def relu_derivative(x):\n",
    "    return np.where(x > 0, 1, 0)"
   ]
  },
  {
   "cell_type": "markdown",
   "metadata": {},
   "source": [
    "we are subtracting np.max(x) to maintain stability \n",
    "keepdims=TRUE so that the original dimension is maintained"
   ]
  },
  {
   "cell_type": "code",
   "execution_count": 18,
   "metadata": {},
   "outputs": [
    {
     "data": {
      "text/plain": [
       "array([[0.04742587, 0.04742587, 0.04742587],\n",
       "       [0.95257413, 0.95257413, 0.95257413]])"
      ]
     },
     "execution_count": 18,
     "metadata": {},
     "output_type": "execute_result"
    }
   ],
   "source": [
    "# softmax function\n",
    "def softmax(x):\n",
    "    exp_x = np.exp(x - np.max(x))\n",
    "    return exp_x / exp_x.sum(axis=0, keepdims=True)\n",
    "softmax(np.array([[1, 2, 3], [4, 5, 6]]))"
   ]
  },
  {
   "cell_type": "code",
   "execution_count": 17,
   "metadata": {},
   "outputs": [
    {
     "data": {
      "text/plain": [
       "array([[0., 0., 0.],\n",
       "       [1., 0., 0.],\n",
       "       [0., 1., 0.],\n",
       "       [0., 0., 1.],\n",
       "       [0., 0., 0.],\n",
       "       [0., 0., 0.],\n",
       "       [0., 0., 0.],\n",
       "       [0., 0., 0.],\n",
       "       [0., 0., 0.],\n",
       "       [0., 0., 0.]])"
      ]
     },
     "execution_count": 17,
     "metadata": {},
     "output_type": "execute_result"
    }
   ],
   "source": [
    "\n",
    "# one hot encoding\n",
    "def one_hot_encode(y, m):\n",
    "    y_encoded = np.zeros((10,m))\n",
    "    y_encoded[y, np.arange(m)] = 1\n",
    "    return y_encoded\n",
    "\n",
    "one_hot_encode(np.array([1, 2, 3]), 3)"
   ]
  },
  {
   "cell_type": "code",
   "execution_count": null,
   "metadata": {},
   "outputs": [],
   "source": [
    "# forward propagation\n",
    "def forward(X, W1, b1, W2, b2):\n",
    "    Z1=np.dot(W1*X)+b1\n",
    "    A1=relu(Z1)\n",
    "    Z2=np.dot(W2*A1)+b2\n",
    "    A2=softmax(Z2)\n",
    "    return A1, A2,Z1,Z2"
   ]
  },
  {
   "cell_type": "markdown",
   "metadata": {},
   "source": [
    "loss function ="
   ]
  },
  {
   "cell_type": "code",
   "execution_count": null,
   "metadata": {},
   "outputs": [],
   "source": [
    "# backward propagation\n",
    "def backward(X, Y, A1, A2, W2, Z1, Z2,m):\n",
    "    \n",
    "    dZ2 = A2 - Y\n",
    "    dW2 = 1/m*np.dot(dZ2,A1.T) \n",
    "    db2 = 1/m*np.sum(dZ2, axis=0) \n",
    "\n",
    "    dZ1 = 1/m*np.dot(dZ2 ) * relu_derivative(Z1)\n",
    "    dW1 = 1/m*np.dot(dZ1, X.T) \n",
    "    db1 = 1/m*np.sum(dZ1, axis=0) \n",
    "    return dW1, db1, dW2, db2"
   ]
  },
  {
   "cell_type": "code",
   "execution_count": null,
   "metadata": {},
   "outputs": [],
   "source": [
    "def gradient_descent(X, Y, W1, b1, W2, b2, learning_rate=0.01):\n",
    "    m = X.shape[0]\n",
    "    A1, A2,Z1,Z2 = forward(X, W1, b1, W2, b2)\n",
    "    dW1, db1, dW2, db2 = backward(X, Y, A1, A2, W2, Z1, Z2,m)\n",
    "    \n",
    "    W1 -= learning_rate * dW1\n",
    "    b1 -= learning_rate * db1\n",
    "    W2 -= learning_rate * dW2\n",
    "    b2 -= learning_rate * db2\n",
    "    \n",
    "    return W1,b1,W2,b2"
   ]
  },
  {
   "cell_type": "code",
   "execution_count": null,
   "metadata": {},
   "outputs": [],
   "source": []
  }
 ],
 "metadata": {
  "kernelspec": {
   "display_name": "Deep Learn 🔥",
   "language": "python",
   "name": "deeplearn"
  },
  "language_info": {
   "codemirror_mode": {
    "name": "ipython",
    "version": 3
   },
   "file_extension": ".py",
   "mimetype": "text/x-python",
   "name": "python",
   "nbconvert_exporter": "python",
   "pygments_lexer": "ipython3",
   "version": "3.11.11"
  }
 },
 "nbformat": 4,
 "nbformat_minor": 2
}
